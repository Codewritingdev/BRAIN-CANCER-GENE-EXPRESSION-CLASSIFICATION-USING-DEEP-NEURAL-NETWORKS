{
  "nbformat": 4,
  "nbformat_minor": 0,
  "metadata": {
    "kernelspec": {
      "display_name": "Python 3",
      "language": "python",
      "name": "python3"
    },
    "language_info": {
      "codemirror_mode": {
        "name": "ipython",
        "version": 3
      },
      "file_extension": ".py",
      "mimetype": "text/x-python",
      "name": "python",
      "nbconvert_exporter": "python",
      "pygments_lexer": "ipython3",
      "version": "3.8.3"
    },
    "colab": {
      "name": "C3 Project Proposal.ipynb",
      "provenance": [],
      "collapsed_sections": []
    }
  },
  "cells": [
    {
      "cell_type": "markdown",
      "metadata": {
        "id": "-eqNvQlRbryq"
      },
      "source": [
        "**BRAIN CANCER GENE EXPRESSION CLASSIFICATION USING DEEP NEURAL NETWORKS**\n",
        "\n",
        "**A Microarray Dataset from CuMiDa**\n",
        "\n",
        "https://www.kaggle.com/brunogrisci/brain-cancer-gene-expression-cumida\n",
        "\n",
        "> Feltes, B.C.; Chandelier, E.B.; Grisci, B.I.; Dorn, M. (2019) CuMiDa: An Extensively Curated Microarray Database for Benchmarking and Testing of Machine Learning Approaches in Cancer Research. Journal of Computational Biology, 26 (4), 376-386. [https://doi.org/10.1089/cmb.2018.0238]\n",
        "\n",
        "> Grisci, B. I., Feltes, B. C., & Dorn, M. (2019). Neuroevolution as a tool for microarray gene expression pattern identification in cancer research. Journal of biomedical informatics, 89, 122-133. [https://doi.org/10.1016/j.jbi.2018.11.013]\n",
        "\n",
        "\n",
        "**Inspiration**\n",
        "\n",
        "* How to deal with class imbalance for classification?\n",
        "\n",
        "* How to indentify the most important genes for the classification of each cancer subtype?\n",
        "\n",
        "* Is it possible to discover subtypes?\n",
        "\n",
        "* How to beat the classification and clustering benchmarks for this dataset listed on the CuMiDa website?"
      ]
    },
    {
      "cell_type": "markdown",
      "metadata": {
        "id": "a986Q_ctbryx"
      },
      "source": [
        "**CONTEXT**\n",
        "\n",
        "I will be using a carefully curated dataset containing handpicked cancer microarrays from the Gene Expression Omnibus (GEO) and Curated Microarray Database (CuMiDa). The aim of this dataset is to offer homogeneous and state-of-the-art biological preprocessing along with numerous 3-fold cross validation benchmark results to propel machine learning studies focused on cancer research. The dataset will be downloaded from Kaggle.com and all processing and modeling work will be done in Jupyter Notebooks.\n",
        "    \n",
        "The dataset contains the gene expression levels of 54676 genes (columns) from 130 samples (rows). The 5 different types of tissue represented are ependymoma, glioblastoma, medulloblastoma, piloxytic_astrocytoma, and 'normal' (or healthy) tissue. "
      ]
    },
    {
      "cell_type": "markdown",
      "metadata": {
        "id": "XR7FiIESbryy"
      },
      "source": [
        "**PROBLEM STATEMENT**\n",
        "\n",
        "Use the Brain Cancer Gene Expression dataset and dimentionality reduction techniques (PCA) to identify key genes, and employ a Deep Neural Network to label types of tissue."
      ]
    },
    {
      "cell_type": "markdown",
      "metadata": {
        "id": "udXk-ZUbbryy"
      },
      "source": [
        "**CRITERIA FOR SUCCESS**\n",
        "\n",
        "Find the number *n* of key genes after dimentionality reduction. Determine test-statistics of our data. Successful (>96% accuracy) of classification of tissue type. Deployment of the model in production environment (Paperspace)"
      ]
    },
    {
      "cell_type": "markdown",
      "metadata": {
        "id": "dNQ3amoGbryz"
      },
      "source": [
        "**SCOPE OF SOLUTION SPACE**\n",
        "\n",
        "Although the exact models used will work best on data in CuMiDa format, it will be possible to re-use the models with some training to classify similar datasets and diseases.\n",
        "\n",
        "I will be limiting data to the Microarray Database and focusing on 4 cancer types and 'normal' tissue. I will limit the project to determining optimal number of components to use with PCA and to finding the highest accuracy model."
      ]
    },
    {
      "cell_type": "markdown",
      "metadata": {
        "id": "kwFUBz-kbryz"
      },
      "source": [
        "**STAKEHOLDERS**\r\n",
        "\r\n",
        "Myself, my mentor (Devin Cavagnaro), and hopefully those interested in disease classification using Neural Networks."
      ]
    },
    {
      "cell_type": "markdown",
      "metadata": {
        "id": "5ntFVMdcbryz"
      },
      "source": [
        "**DATA SOURCES**\r\n",
        "\r\n",
        "https://www.kaggle.com/brunogrisci/brain-cancer-gene-expression-cumida\r\n",
        "\r\n",
        "A Microarray Dataset from CuMiDa"
      ]
    }
  ]
}