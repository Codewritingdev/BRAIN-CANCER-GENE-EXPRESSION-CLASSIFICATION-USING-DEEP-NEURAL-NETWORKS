{
  "nbformat": 4,
  "nbformat_minor": 0,
  "metadata": {
    "colab": {
      "name": "C3 Modeling",
      "provenance": []
    },
    "kernelspec": {
      "name": "python3",
      "display_name": "Python 3"
    }
  },
  "cells": [
    {
      "cell_type": "markdown",
      "metadata": {
        "id": "V_d-ty7jHnOo"
      },
      "source": [
        "Import required libraries and modules\r\n"
      ]
    },
    {
      "cell_type": "code",
      "metadata": {
        "id": "rl6CT6nMy3_n"
      },
      "source": [
        "import numpy as np\r\n",
        "import pandas as pd\r\n",
        "\r\n",
        "import matplotlib.pyplot as plt\r\n",
        "\r\n",
        "from sklearn.preprocessing import StandardScaler\r\n",
        "from sklearn.decomposition import PCA\r\n",
        "from sklearn.model_selection import train_test_split\r\n",
        "\r\n",
        "from keras.models import Sequential\r\n",
        "from keras.layers import Dense"
      ],
      "execution_count": 23,
      "outputs": []
    },
    {
      "cell_type": "markdown",
      "metadata": {
        "id": "EQmaUTPxHyRU"
      },
      "source": [
        "Read in the data, saved temporarily in content folder. Needs to be imported for each runtime."
      ]
    },
    {
      "cell_type": "code",
      "metadata": {
        "colab": {
          "base_uri": "https://localhost:8080/"
        },
        "id": "IC-yStqNy_np",
        "outputId": "069f58a7-8674-4a4b-86c9-002d221f238b"
      },
      "source": [
        "df = pd.read_csv('../content/Brain_GSE50161.csv', error_bad_lines=True)\r\n",
        "df.shape"
      ],
      "execution_count": 4,
      "outputs": [
        {
          "output_type": "execute_result",
          "data": {
            "text/plain": [
              "(130, 54677)"
            ]
          },
          "metadata": {
            "tags": []
          },
          "execution_count": 4
        }
      ]
    },
    {
      "cell_type": "markdown",
      "metadata": {
        "id": "UqwOmvB3H9qP"
      },
      "source": [
        "Select original X features and y labels. One-hot encode labels as numerical data. Split our features and labels into train and test splits. Initiate scaler on train data and transform train and test."
      ]
    },
    {
      "cell_type": "code",
      "metadata": {
        "id": "gow0JPFuzEtI"
      },
      "source": [
        "features = df.drop(['samples', 'type'], axis=1).columns\r\n",
        "\r\n",
        "X = df.loc[:, features].values\r\n",
        "y = pd.get_dummies(df.type)\r\n",
        "\r\n",
        "X_train, X_test, y_train, y_test = train_test_split(X, y, test_size=.1)\r\n",
        "\r\n",
        "scaler = StandardScaler()\r\n",
        "scaler = scaler.fit(X_train)\r\n",
        "\r\n",
        "X_train_scaled = scaler.transform(X_train)\r\n",
        "X_test_scaled = scaler.transform(X_test)"
      ],
      "execution_count": 53,
      "outputs": []
    },
    {
      "cell_type": "markdown",
      "metadata": {
        "id": "AEKhlUUSH8Zm"
      },
      "source": [
        "Principal Component Analysis of the train and test data. We tried various numbers for n and found 20 to be the lowest reliable number."
      ]
    },
    {
      "cell_type": "code",
      "metadata": {
        "id": "c0KD9Y0patk1"
      },
      "source": [
        "pca = PCA(n_components=20)\r\n",
        "\r\n",
        "pca = pca.fit(X_train_scaled)\r\n",
        "\r\n",
        "X_train_scaled_pca = pca.transform(X_train_scaled)\r\n",
        "X_test_scaled_pca = pca.transform(X_test_scaled)"
      ],
      "execution_count": 54,
      "outputs": []
    },
    {
      "cell_type": "markdown",
      "metadata": {
        "id": "mOg0cYrrIyrP"
      },
      "source": [
        "Initiate the Keras Sequential model with three Dense layers."
      ]
    },
    {
      "cell_type": "code",
      "metadata": {
        "id": "Db3x96TZ9WJr"
      },
      "source": [
        "ncols = X_train_scaled_pca.shape[1]\r\n",
        "\r\n",
        "model = Sequential()\r\n",
        "model.add(Dense(120, input_shape=(ncols,), activation='relu'))\r\n",
        "model.add(Dense(60, activation='relu'))\r\n",
        "model.add(Dense(5, activation='softmax'))\r\n",
        "\r\n",
        "model.compile(loss='categorical_crossentropy', optimizer='adam', metrics=['accuracy'])"
      ],
      "execution_count": 55,
      "outputs": []
    },
    {
      "cell_type": "markdown",
      "metadata": {
        "id": "tNVXVKrZJBb_"
      },
      "source": [
        "Fit our model and print out accuracy."
      ]
    },
    {
      "cell_type": "code",
      "metadata": {
        "colab": {
          "base_uri": "https://localhost:8080/"
        },
        "id": "9q2QzHboEKce",
        "outputId": "fc48005a-9b34-42d5-cddc-951a7f6a1ba9"
      },
      "source": [
        "model.fit(X_train_scaled_pca, y_train, epochs=200, batch_size=10, verbose=0)\r\n",
        "scores = model.evaluate(X_test_scaled_pca, y_test)\r\n",
        "print(\"\\n%s: %.2f%%\" % (model.metrics_names[1], scores[1]*100))"
      ],
      "execution_count": 57,
      "outputs": [
        {
          "output_type": "stream",
          "text": [
            "1/1 [==============================] - 0s 16ms/step - loss: 0.0068 - accuracy: 1.0000\n",
            "\n",
            "accuracy: 100.00%\n"
          ],
          "name": "stdout"
        }
      ]
    },
    {
      "cell_type": "code",
      "metadata": {
        "id": "Jb1OIkrEEXwo"
      },
      "source": [
        "\r\n"
      ],
      "execution_count": 22,
      "outputs": []
    },
    {
      "cell_type": "code",
      "metadata": {
        "id": "q6j5EASxFlvg"
      },
      "source": [
        ""
      ],
      "execution_count": null,
      "outputs": []
    }
  ]
}