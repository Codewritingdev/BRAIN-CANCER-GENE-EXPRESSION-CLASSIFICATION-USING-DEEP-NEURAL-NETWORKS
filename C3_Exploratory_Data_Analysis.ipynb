{
  "nbformat": 4,
  "nbformat_minor": 0,
  "metadata": {
    "colab": {
      "name": "C3 Exploratory Data Analysis.ipynb",
      "provenance": []
    },
    "kernelspec": {
      "name": "python3",
      "display_name": "Python 3"
    }
  },
  "cells": [
    {
      "cell_type": "code",
      "metadata": {
        "id": "nvBIT8VPml2a"
      },
      "source": [
        "import numpy as np\r\n",
        "import pandas as pd\r\n",
        "\r\n",
        "import matplotlib.pyplot as plt"
      ],
      "execution_count": 2,
      "outputs": []
    },
    {
      "cell_type": "code",
      "metadata": {
        "colab": {
          "base_uri": "https://localhost:8080/",
          "height": 304
        },
        "id": "KEAX_Hr5mpiT",
        "outputId": "2bb60aed-c626-4aef-acc4-78452d55c068"
      },
      "source": [
        "df = pd.read_csv('../content/Brain_GSE50161.csv', error_bad_lines=True)\r\n",
        "df.head()"
      ],
      "execution_count": 19,
      "outputs": [
        {
          "output_type": "execute_result",
          "data": {
            "text/html": [
              "<div>\n",
              "<style scoped>\n",
              "    .dataframe tbody tr th:only-of-type {\n",
              "        vertical-align: middle;\n",
              "    }\n",
              "\n",
              "    .dataframe tbody tr th {\n",
              "        vertical-align: top;\n",
              "    }\n",
              "\n",
              "    .dataframe thead th {\n",
              "        text-align: right;\n",
              "    }\n",
              "</style>\n",
              "<table border=\"1\" class=\"dataframe\">\n",
              "  <thead>\n",
              "    <tr style=\"text-align: right;\">\n",
              "      <th></th>\n",
              "      <th>samples</th>\n",
              "      <th>type</th>\n",
              "      <th>1007_s_at</th>\n",
              "      <th>1053_at</th>\n",
              "      <th>117_at</th>\n",
              "      <th>121_at</th>\n",
              "      <th>1255_g_at</th>\n",
              "      <th>1294_at</th>\n",
              "      <th>1316_at</th>\n",
              "      <th>1320_at</th>\n",
              "      <th>1405_i_at</th>\n",
              "      <th>1431_at</th>\n",
              "      <th>1438_at</th>\n",
              "      <th>1487_at</th>\n",
              "      <th>1494_f_at</th>\n",
              "      <th>1552256_a_at</th>\n",
              "      <th>1552257_a_at</th>\n",
              "      <th>1552258_at</th>\n",
              "      <th>1552261_at</th>\n",
              "      <th>1552263_at</th>\n",
              "      <th>1552264_a_at</th>\n",
              "      <th>1552266_at</th>\n",
              "      <th>1552269_at</th>\n",
              "      <th>1552271_at</th>\n",
              "      <th>1552272_a_at</th>\n",
              "      <th>1552274_at</th>\n",
              "      <th>1552275_s_at</th>\n",
              "      <th>1552276_a_at</th>\n",
              "      <th>1552277_a_at</th>\n",
              "      <th>1552278_a_at</th>\n",
              "      <th>1552279_a_at</th>\n",
              "      <th>1552280_at</th>\n",
              "      <th>1552281_at</th>\n",
              "      <th>1552283_s_at</th>\n",
              "      <th>1552286_at</th>\n",
              "      <th>1552287_s_at</th>\n",
              "      <th>1552288_at</th>\n",
              "      <th>1552289_a_at</th>\n",
              "      <th>1552291_at</th>\n",
              "      <th>1552293_at</th>\n",
              "      <th>...</th>\n",
              "      <th>AFFX-HUMISGF3A/M97935_MB_at</th>\n",
              "      <th>AFFX-HUMRGE/M10098_3_at</th>\n",
              "      <th>AFFX-HUMRGE/M10098_5_at</th>\n",
              "      <th>AFFX-HUMRGE/M10098_M_at</th>\n",
              "      <th>AFFX-LysX-3_at</th>\n",
              "      <th>AFFX-LysX-5_at</th>\n",
              "      <th>AFFX-LysX-M_at</th>\n",
              "      <th>AFFX-M27830_3_at</th>\n",
              "      <th>AFFX-M27830_5_at</th>\n",
              "      <th>AFFX-M27830_M_at</th>\n",
              "      <th>AFFX-PheX-3_at</th>\n",
              "      <th>AFFX-PheX-5_at</th>\n",
              "      <th>AFFX-PheX-M_at</th>\n",
              "      <th>AFFX-r2-Bs-dap-3_at</th>\n",
              "      <th>AFFX-r2-Bs-dap-5_at</th>\n",
              "      <th>AFFX-r2-Bs-dap-M_at</th>\n",
              "      <th>AFFX-r2-Bs-lys-3_at</th>\n",
              "      <th>AFFX-r2-Bs-lys-5_at</th>\n",
              "      <th>AFFX-r2-Bs-lys-M_at</th>\n",
              "      <th>AFFX-r2-Bs-phe-3_at</th>\n",
              "      <th>AFFX-r2-Bs-phe-5_at</th>\n",
              "      <th>AFFX-r2-Bs-phe-M_at</th>\n",
              "      <th>AFFX-r2-Bs-thr-3_s_at</th>\n",
              "      <th>AFFX-r2-Bs-thr-5_s_at</th>\n",
              "      <th>AFFX-r2-Bs-thr-M_s_at</th>\n",
              "      <th>AFFX-r2-Ec-bioB-3_at</th>\n",
              "      <th>AFFX-r2-Ec-bioB-5_at</th>\n",
              "      <th>AFFX-r2-Ec-bioB-M_at</th>\n",
              "      <th>AFFX-r2-Ec-bioC-3_at</th>\n",
              "      <th>AFFX-r2-Ec-bioC-5_at</th>\n",
              "      <th>AFFX-r2-Ec-bioD-3_at</th>\n",
              "      <th>AFFX-r2-Ec-bioD-5_at</th>\n",
              "      <th>AFFX-r2-P1-cre-3_at</th>\n",
              "      <th>AFFX-r2-P1-cre-5_at</th>\n",
              "      <th>AFFX-ThrX-3_at</th>\n",
              "      <th>AFFX-ThrX-5_at</th>\n",
              "      <th>AFFX-ThrX-M_at</th>\n",
              "      <th>AFFX-TrpnX-3_at</th>\n",
              "      <th>AFFX-TrpnX-5_at</th>\n",
              "      <th>AFFX-TrpnX-M_at</th>\n",
              "    </tr>\n",
              "  </thead>\n",
              "  <tbody>\n",
              "    <tr>\n",
              "      <th>0</th>\n",
              "      <td>834</td>\n",
              "      <td>ependymoma</td>\n",
              "      <td>12.498150</td>\n",
              "      <td>7.604868</td>\n",
              "      <td>6.880934</td>\n",
              "      <td>9.027128</td>\n",
              "      <td>4.176175</td>\n",
              "      <td>7.224920</td>\n",
              "      <td>6.085942</td>\n",
              "      <td>6.835999</td>\n",
              "      <td>5.898355</td>\n",
              "      <td>5.513410</td>\n",
              "      <td>7.541986</td>\n",
              "      <td>7.905140</td>\n",
              "      <td>7.108117</td>\n",
              "      <td>8.386617</td>\n",
              "      <td>8.412090</td>\n",
              "      <td>6.560058</td>\n",
              "      <td>5.779307</td>\n",
              "      <td>5.596102</td>\n",
              "      <td>9.128874</td>\n",
              "      <td>6.822846</td>\n",
              "      <td>8.222273</td>\n",
              "      <td>5.965720</td>\n",
              "      <td>6.070791</td>\n",
              "      <td>6.522746</td>\n",
              "      <td>7.031419</td>\n",
              "      <td>6.514768</td>\n",
              "      <td>8.333490</td>\n",
              "      <td>6.699891</td>\n",
              "      <td>8.290555</td>\n",
              "      <td>6.330756</td>\n",
              "      <td>7.429331</td>\n",
              "      <td>8.271134</td>\n",
              "      <td>6.889821</td>\n",
              "      <td>6.789864</td>\n",
              "      <td>6.332943</td>\n",
              "      <td>6.743534</td>\n",
              "      <td>7.683195</td>\n",
              "      <td>6.725073</td>\n",
              "      <td>...</td>\n",
              "      <td>7.452986</td>\n",
              "      <td>6.286898</td>\n",
              "      <td>4.769155</td>\n",
              "      <td>4.687528</td>\n",
              "      <td>3.754204</td>\n",
              "      <td>3.896775</td>\n",
              "      <td>4.473275</td>\n",
              "      <td>8.171548</td>\n",
              "      <td>6.060622</td>\n",
              "      <td>8.841900</td>\n",
              "      <td>5.902276</td>\n",
              "      <td>3.907297</td>\n",
              "      <td>3.882678</td>\n",
              "      <td>3.890110</td>\n",
              "      <td>3.668144</td>\n",
              "      <td>3.390117</td>\n",
              "      <td>3.953972</td>\n",
              "      <td>3.529272</td>\n",
              "      <td>3.563981</td>\n",
              "      <td>4.574315</td>\n",
              "      <td>3.828851</td>\n",
              "      <td>4.483687</td>\n",
              "      <td>5.011438</td>\n",
              "      <td>5.773626</td>\n",
              "      <td>4.827817</td>\n",
              "      <td>5.877779</td>\n",
              "      <td>6.714268</td>\n",
              "      <td>6.080413</td>\n",
              "      <td>7.475681</td>\n",
              "      <td>7.086287</td>\n",
              "      <td>9.979005</td>\n",
              "      <td>9.926470</td>\n",
              "      <td>12.719785</td>\n",
              "      <td>12.777792</td>\n",
              "      <td>5.403657</td>\n",
              "      <td>4.870548</td>\n",
              "      <td>4.047380</td>\n",
              "      <td>3.721936</td>\n",
              "      <td>4.516434</td>\n",
              "      <td>4.749940</td>\n",
              "    </tr>\n",
              "    <tr>\n",
              "      <th>1</th>\n",
              "      <td>835</td>\n",
              "      <td>ependymoma</td>\n",
              "      <td>13.067436</td>\n",
              "      <td>7.998090</td>\n",
              "      <td>7.209076</td>\n",
              "      <td>9.723322</td>\n",
              "      <td>4.826126</td>\n",
              "      <td>7.539381</td>\n",
              "      <td>6.250962</td>\n",
              "      <td>8.012549</td>\n",
              "      <td>5.453147</td>\n",
              "      <td>6.173106</td>\n",
              "      <td>8.317030</td>\n",
              "      <td>8.269136</td>\n",
              "      <td>7.250662</td>\n",
              "      <td>9.208559</td>\n",
              "      <td>8.466202</td>\n",
              "      <td>5.822008</td>\n",
              "      <td>5.862887</td>\n",
              "      <td>5.573160</td>\n",
              "      <td>8.853524</td>\n",
              "      <td>5.855870</td>\n",
              "      <td>6.914568</td>\n",
              "      <td>6.856960</td>\n",
              "      <td>7.268411</td>\n",
              "      <td>7.805840</td>\n",
              "      <td>7.953560</td>\n",
              "      <td>7.049230</td>\n",
              "      <td>7.985905</td>\n",
              "      <td>8.285225</td>\n",
              "      <td>9.759504</td>\n",
              "      <td>5.638496</td>\n",
              "      <td>7.963333</td>\n",
              "      <td>6.503762</td>\n",
              "      <td>7.413667</td>\n",
              "      <td>8.128855</td>\n",
              "      <td>5.010720</td>\n",
              "      <td>6.483549</td>\n",
              "      <td>7.349033</td>\n",
              "      <td>6.153470</td>\n",
              "      <td>...</td>\n",
              "      <td>9.122687</td>\n",
              "      <td>6.487188</td>\n",
              "      <td>5.011087</td>\n",
              "      <td>5.125493</td>\n",
              "      <td>3.459905</td>\n",
              "      <td>3.475047</td>\n",
              "      <td>4.250283</td>\n",
              "      <td>8.026929</td>\n",
              "      <td>7.974346</td>\n",
              "      <td>9.139429</td>\n",
              "      <td>6.088559</td>\n",
              "      <td>3.955786</td>\n",
              "      <td>3.744942</td>\n",
              "      <td>3.475500</td>\n",
              "      <td>3.545111</td>\n",
              "      <td>3.288044</td>\n",
              "      <td>3.798083</td>\n",
              "      <td>3.465220</td>\n",
              "      <td>3.398081</td>\n",
              "      <td>4.279519</td>\n",
              "      <td>3.365857</td>\n",
              "      <td>3.673009</td>\n",
              "      <td>4.822057</td>\n",
              "      <td>5.048771</td>\n",
              "      <td>4.988880</td>\n",
              "      <td>7.645660</td>\n",
              "      <td>7.913366</td>\n",
              "      <td>7.398476</td>\n",
              "      <td>9.145736</td>\n",
              "      <td>9.137122</td>\n",
              "      <td>11.924749</td>\n",
              "      <td>11.215930</td>\n",
              "      <td>13.605662</td>\n",
              "      <td>13.401342</td>\n",
              "      <td>5.224555</td>\n",
              "      <td>4.895315</td>\n",
              "      <td>3.786437</td>\n",
              "      <td>3.564481</td>\n",
              "      <td>4.430891</td>\n",
              "      <td>4.491416</td>\n",
              "    </tr>\n",
              "    <tr>\n",
              "      <th>2</th>\n",
              "      <td>836</td>\n",
              "      <td>ependymoma</td>\n",
              "      <td>13.068179</td>\n",
              "      <td>8.573674</td>\n",
              "      <td>8.647684</td>\n",
              "      <td>9.613002</td>\n",
              "      <td>4.396581</td>\n",
              "      <td>7.813101</td>\n",
              "      <td>6.007746</td>\n",
              "      <td>7.178156</td>\n",
              "      <td>8.400266</td>\n",
              "      <td>6.323471</td>\n",
              "      <td>7.661874</td>\n",
              "      <td>8.327897</td>\n",
              "      <td>7.557231</td>\n",
              "      <td>9.344553</td>\n",
              "      <td>9.161303</td>\n",
              "      <td>6.352456</td>\n",
              "      <td>5.703981</td>\n",
              "      <td>6.296894</td>\n",
              "      <td>8.912298</td>\n",
              "      <td>6.115325</td>\n",
              "      <td>6.706525</td>\n",
              "      <td>7.236168</td>\n",
              "      <td>7.062774</td>\n",
              "      <td>7.702766</td>\n",
              "      <td>7.713712</td>\n",
              "      <td>7.146639</td>\n",
              "      <td>8.958272</td>\n",
              "      <td>5.966615</td>\n",
              "      <td>8.235646</td>\n",
              "      <td>5.393936</td>\n",
              "      <td>8.168913</td>\n",
              "      <td>7.446118</td>\n",
              "      <td>7.032315</td>\n",
              "      <td>7.511554</td>\n",
              "      <td>5.241585</td>\n",
              "      <td>6.878393</td>\n",
              "      <td>7.881382</td>\n",
              "      <td>6.073385</td>\n",
              "      <td>...</td>\n",
              "      <td>9.822739</td>\n",
              "      <td>6.453939</td>\n",
              "      <td>4.549771</td>\n",
              "      <td>4.578991</td>\n",
              "      <td>3.512840</td>\n",
              "      <td>3.480678</td>\n",
              "      <td>4.457866</td>\n",
              "      <td>8.097331</td>\n",
              "      <td>7.070830</td>\n",
              "      <td>9.434220</td>\n",
              "      <td>6.109699</td>\n",
              "      <td>4.096394</td>\n",
              "      <td>3.813011</td>\n",
              "      <td>3.387800</td>\n",
              "      <td>3.579731</td>\n",
              "      <td>3.307294</td>\n",
              "      <td>3.639748</td>\n",
              "      <td>3.256938</td>\n",
              "      <td>3.377463</td>\n",
              "      <td>4.280787</td>\n",
              "      <td>3.434739</td>\n",
              "      <td>3.541582</td>\n",
              "      <td>4.877465</td>\n",
              "      <td>5.268649</td>\n",
              "      <td>5.395714</td>\n",
              "      <td>7.933271</td>\n",
              "      <td>8.191778</td>\n",
              "      <td>7.930424</td>\n",
              "      <td>9.689873</td>\n",
              "      <td>9.609895</td>\n",
              "      <td>12.154405</td>\n",
              "      <td>11.532460</td>\n",
              "      <td>13.764593</td>\n",
              "      <td>13.477800</td>\n",
              "      <td>5.303565</td>\n",
              "      <td>5.052184</td>\n",
              "      <td>4.005343</td>\n",
              "      <td>3.595382</td>\n",
              "      <td>4.563494</td>\n",
              "      <td>4.668827</td>\n",
              "    </tr>\n",
              "    <tr>\n",
              "      <th>3</th>\n",
              "      <td>837</td>\n",
              "      <td>ependymoma</td>\n",
              "      <td>12.456040</td>\n",
              "      <td>9.098977</td>\n",
              "      <td>6.628784</td>\n",
              "      <td>8.517677</td>\n",
              "      <td>4.154847</td>\n",
              "      <td>8.361843</td>\n",
              "      <td>6.596064</td>\n",
              "      <td>6.347285</td>\n",
              "      <td>4.900380</td>\n",
              "      <td>6.008684</td>\n",
              "      <td>7.663790</td>\n",
              "      <td>7.730238</td>\n",
              "      <td>6.890946</td>\n",
              "      <td>8.996408</td>\n",
              "      <td>7.967699</td>\n",
              "      <td>5.565398</td>\n",
              "      <td>5.656941</td>\n",
              "      <td>7.255397</td>\n",
              "      <td>7.725901</td>\n",
              "      <td>5.835465</td>\n",
              "      <td>8.985858</td>\n",
              "      <td>6.688773</td>\n",
              "      <td>6.582501</td>\n",
              "      <td>7.073578</td>\n",
              "      <td>7.603237</td>\n",
              "      <td>6.420513</td>\n",
              "      <td>9.477679</td>\n",
              "      <td>5.921865</td>\n",
              "      <td>7.775342</td>\n",
              "      <td>4.808373</td>\n",
              "      <td>7.077664</td>\n",
              "      <td>8.321482</td>\n",
              "      <td>7.732976</td>\n",
              "      <td>9.187663</td>\n",
              "      <td>4.644900</td>\n",
              "      <td>6.021278</td>\n",
              "      <td>8.720681</td>\n",
              "      <td>6.124541</td>\n",
              "      <td>...</td>\n",
              "      <td>8.028984</td>\n",
              "      <td>11.005884</td>\n",
              "      <td>12.747103</td>\n",
              "      <td>11.065442</td>\n",
              "      <td>3.516075</td>\n",
              "      <td>3.584663</td>\n",
              "      <td>4.171380</td>\n",
              "      <td>7.079637</td>\n",
              "      <td>12.800238</td>\n",
              "      <td>10.747585</td>\n",
              "      <td>6.509987</td>\n",
              "      <td>4.243607</td>\n",
              "      <td>3.820466</td>\n",
              "      <td>3.584356</td>\n",
              "      <td>3.917221</td>\n",
              "      <td>3.455213</td>\n",
              "      <td>3.802537</td>\n",
              "      <td>3.803922</td>\n",
              "      <td>3.467714</td>\n",
              "      <td>4.268587</td>\n",
              "      <td>3.380387</td>\n",
              "      <td>3.593411</td>\n",
              "      <td>4.956109</td>\n",
              "      <td>4.774260</td>\n",
              "      <td>4.626221</td>\n",
              "      <td>8.613308</td>\n",
              "      <td>8.654348</td>\n",
              "      <td>8.623225</td>\n",
              "      <td>9.913409</td>\n",
              "      <td>9.644685</td>\n",
              "      <td>11.969072</td>\n",
              "      <td>11.288801</td>\n",
              "      <td>13.600828</td>\n",
              "      <td>13.379029</td>\n",
              "      <td>4.953429</td>\n",
              "      <td>4.708371</td>\n",
              "      <td>3.892318</td>\n",
              "      <td>3.759429</td>\n",
              "      <td>4.748381</td>\n",
              "      <td>4.521275</td>\n",
              "    </tr>\n",
              "    <tr>\n",
              "      <th>4</th>\n",
              "      <td>838</td>\n",
              "      <td>ependymoma</td>\n",
              "      <td>12.699958</td>\n",
              "      <td>8.800721</td>\n",
              "      <td>11.556188</td>\n",
              "      <td>9.166309</td>\n",
              "      <td>4.165891</td>\n",
              "      <td>7.923826</td>\n",
              "      <td>6.212754</td>\n",
              "      <td>6.866387</td>\n",
              "      <td>5.405628</td>\n",
              "      <td>5.279579</td>\n",
              "      <td>9.521956</td>\n",
              "      <td>7.581397</td>\n",
              "      <td>6.927562</td>\n",
              "      <td>10.040652</td>\n",
              "      <td>9.611351</td>\n",
              "      <td>5.993222</td>\n",
              "      <td>5.874362</td>\n",
              "      <td>6.635761</td>\n",
              "      <td>9.721766</td>\n",
              "      <td>5.603343</td>\n",
              "      <td>8.221752</td>\n",
              "      <td>5.950401</td>\n",
              "      <td>5.752766</td>\n",
              "      <td>7.916434</td>\n",
              "      <td>8.139826</td>\n",
              "      <td>6.739943</td>\n",
              "      <td>9.620339</td>\n",
              "      <td>6.869073</td>\n",
              "      <td>8.265623</td>\n",
              "      <td>5.538281</td>\n",
              "      <td>7.522460</td>\n",
              "      <td>7.407162</td>\n",
              "      <td>7.253496</td>\n",
              "      <td>7.067481</td>\n",
              "      <td>5.702077</td>\n",
              "      <td>6.519492</td>\n",
              "      <td>8.179811</td>\n",
              "      <td>6.222004</td>\n",
              "      <td>...</td>\n",
              "      <td>9.086955</td>\n",
              "      <td>6.172889</td>\n",
              "      <td>5.258776</td>\n",
              "      <td>5.393915</td>\n",
              "      <td>3.549031</td>\n",
              "      <td>3.566336</td>\n",
              "      <td>4.359560</td>\n",
              "      <td>7.664900</td>\n",
              "      <td>7.256066</td>\n",
              "      <td>9.033989</td>\n",
              "      <td>5.801538</td>\n",
              "      <td>3.934145</td>\n",
              "      <td>3.865816</td>\n",
              "      <td>3.500392</td>\n",
              "      <td>3.828196</td>\n",
              "      <td>3.649669</td>\n",
              "      <td>3.620477</td>\n",
              "      <td>3.712344</td>\n",
              "      <td>3.488495</td>\n",
              "      <td>4.157682</td>\n",
              "      <td>3.536042</td>\n",
              "      <td>4.355079</td>\n",
              "      <td>4.934517</td>\n",
              "      <td>5.230971</td>\n",
              "      <td>4.847577</td>\n",
              "      <td>7.401751</td>\n",
              "      <td>8.019437</td>\n",
              "      <td>7.785604</td>\n",
              "      <td>8.819330</td>\n",
              "      <td>9.121005</td>\n",
              "      <td>11.411701</td>\n",
              "      <td>11.169317</td>\n",
              "      <td>13.751442</td>\n",
              "      <td>13.803646</td>\n",
              "      <td>4.892677</td>\n",
              "      <td>4.773806</td>\n",
              "      <td>3.796856</td>\n",
              "      <td>3.577544</td>\n",
              "      <td>4.504385</td>\n",
              "      <td>4.541450</td>\n",
              "    </tr>\n",
              "  </tbody>\n",
              "</table>\n",
              "<p>5 rows × 54677 columns</p>\n",
              "</div>"
            ],
            "text/plain": [
              "   samples        type  ...  AFFX-TrpnX-5_at  AFFX-TrpnX-M_at\n",
              "0      834  ependymoma  ...         4.516434         4.749940\n",
              "1      835  ependymoma  ...         4.430891         4.491416\n",
              "2      836  ependymoma  ...         4.563494         4.668827\n",
              "3      837  ependymoma  ...         4.748381         4.521275\n",
              "4      838  ependymoma  ...         4.504385         4.541450\n",
              "\n",
              "[5 rows x 54677 columns]"
            ]
          },
          "metadata": {
            "tags": []
          },
          "execution_count": 19
        }
      ]
    },
    {
      "cell_type": "code",
      "metadata": {
        "id": "TCCsarMPoCK8"
      },
      "source": [
        "desc = df.describe().drop('samples', axis=1)"
      ],
      "execution_count": 10,
      "outputs": []
    },
    {
      "cell_type": "markdown",
      "metadata": {
        "id": "t1VQRFfW6h2q"
      },
      "source": [
        "Saving the describe function of the genes to analyze distribution of mean and standard deviation."
      ]
    },
    {
      "cell_type": "code",
      "metadata": {
        "colab": {
          "base_uri": "https://localhost:8080/"
        },
        "id": "iDHUQY1eok68",
        "outputId": "a85e7c00-9cf1-47c4-b35f-9eee3e46084a"
      },
      "source": [
        "df.shape"
      ],
      "execution_count": 11,
      "outputs": [
        {
          "output_type": "execute_result",
          "data": {
            "text/plain": [
              "(130, 54677)"
            ]
          },
          "metadata": {
            "tags": []
          },
          "execution_count": 11
        }
      ]
    },
    {
      "cell_type": "code",
      "metadata": {
        "id": "MJtxzRPqos6c"
      },
      "source": [
        "mean = np.array(desc.loc['mean', :])\r\n",
        "std = np.array(desc.loc['std', :])"
      ],
      "execution_count": 15,
      "outputs": []
    },
    {
      "cell_type": "code",
      "metadata": {
        "colab": {
          "base_uri": "https://localhost:8080/",
          "height": 513
        },
        "id": "ToTXLyuHxRcI",
        "outputId": "52d1e92e-428f-4218-eb7e-b1e3f79319f6"
      },
      "source": [
        "plt.hist(mean, bins=100)\r\n",
        "plt.show()\r\n",
        "plt.hist(std, bins=100)\r\n",
        "plt.show()"
      ],
      "execution_count": 18,
      "outputs": [
        {
          "output_type": "display_data",
          "data": {
            "image/png": "[encoded data removed]",
            "text/plain": [
              "<Figure size 432x288 with 1 Axes>"
            ]
          },
          "metadata": {
            "tags": [],
            "needs_background": "light"
          }
        },
        {
          "output_type": "display_data",
          "data": {
            "image/png": "[encoded data removed]",
            "text/plain": [
              "<Figure size 432x288 with 1 Axes>"
            ]
          },
          "metadata": {
            "tags": [],
            "needs_background": "light"
          }
        }
      ]
    },
    {
      "cell_type": "markdown",
      "metadata": {
        "id": "kX3gHI8Y6xm8"
      },
      "source": [
        "Mean shows a normal distribution with a small right tail, whereas standard deviation has a strong right tail."
      ]
    },
    {
      "cell_type": "code",
      "metadata": {
        "colab": {
          "base_uri": "https://localhost:8080/"
        },
        "id": "LluWWGYFxiue",
        "outputId": "73bd2453-0675-4425-ad89-1ab8d694c858"
      },
      "source": [
        "mean_of_mean = np.mean(mean)\r\n",
        "print(mean_of_mean)\r\n",
        "\r\n",
        "mean_of_std = np.mean(std)\r\n",
        "print(mean_of_std)"
      ],
      "execution_count": 20,
      "outputs": [
        {
          "output_type": "stream",
          "text": [
            "7.129237709582097\n",
            "0.62628813745433\n"
          ],
          "name": "stdout"
        }
      ]
    },
    {
      "cell_type": "code",
      "metadata": {
        "colab": {
          "base_uri": "https://localhost:8080/"
        },
        "id": "0f1PciwKySSH",
        "outputId": "22fd669e-2fc3-4515-f7c8-75545562c619"
      },
      "source": [
        "max_of_std = np.max(std)\r\n",
        "print(max_of_std)\r\n",
        "\r\n",
        "max_of_mean = np.max(mean)\r\n",
        "print(max_of_mean)"
      ],
      "execution_count": 21,
      "outputs": [
        {
          "output_type": "stream",
          "text": [
            "3.5991252968924345\n",
            "14.538243337502575\n"
          ],
          "name": "stdout"
        }
      ]
    },
    {
      "cell_type": "code",
      "metadata": {
        "colab": {
          "base_uri": "https://localhost:8080/"
        },
        "id": "EZfv8qTIye4e",
        "outputId": "effa3659-ca09-4d94-bd48-b33c0a3b51cc"
      },
      "source": [
        "df = df.dropna()\r\n",
        "df.shape"
      ],
      "execution_count": 22,
      "outputs": [
        {
          "output_type": "execute_result",
          "data": {
            "text/plain": [
              "(130, 54677)"
            ]
          },
          "metadata": {
            "tags": []
          },
          "execution_count": 22
        }
      ]
    },
    {
      "cell_type": "markdown",
      "metadata": {
        "id": "bHapZyNV7Amo"
      },
      "source": [
        "No null values in dataframe"
      ]
    },
    {
      "cell_type": "code",
      "metadata": {
        "id": "HQZeZB3eymVe"
      },
      "source": [
        ""
      ],
      "execution_count": null,
      "outputs": []
    }
  ]
}